{
 "cells": [
  {
   "cell_type": "markdown",
   "metadata": {
    "colab_type": "text",
    "id": "CPOXHysXKGLW"
   },
   "source": [
    "# Music Generation (Bach) using LSTM Neural Networks\n",
    "\n",
    "### Objective :\n",
    "\n",
    "- We will train a network to learn a language model and then use it to generate new sequences.\n",
    "\n",
    "- Instead of training the language model on text-documents (as it is the case in most examples) we will train it to learn the language of the music of [Johann_Sebastian_Bach](https://en.wikipedia.org/wiki/Johann_Sebastian_Bach).\n",
    "For this, we will learn how J. S. Bach's \"Cello suite\" hav been composed.\n",
    "Here is an example of a \"Cello suite\" [Link](https://www.youtube.com/watch?v=mGQLXRTl3Z0).\n",
    "\n",
    "- Rather than analyzing the audio signal, we use a symbolic representation of the \"Cello suite\" through their [MIDI files](https://en.wikipedia.org/wiki/MIDI#MIDI_files).\n",
    "  - A MIDI file encodes in a file, the set of musical notes, their duration, and intensity which have to be played by each instrument to \"render\" a musical piece. The \"rendering\" is usually operated by a MIDI synthesizer (such as VLC, QuickTime).\n",
    "\n",
    "- We will first train a language model on the whole set of MIDI files of the \"Cello suites\". \n",
    "- We will then sample this language model to create a new MIDI file which will be a brand new \"Cello suite\" composed by the computer.\n",
    "\n",
    "### Note :\n",
    "I used Google Colab Notebook in order to perform the LSTM on TPU"
   ]
  },
  {
   "cell_type": "markdown",
   "metadata": {
    "colab_type": "text",
    "id": "RjlvVXvgbpbW"
   },
   "source": [
    "## Import packages"
   ]
  },
  {
   "cell_type": "code",
   "execution_count": 0,
   "metadata": {
    "colab": {},
    "colab_type": "code",
    "id": "IXocQU0HDntL"
   },
   "outputs": [],
   "source": [
    "import os\n",
    "import tensorflow as tf\n",
    "import pretty_midi\n",
    "from scipy.io import wavfile \n",
    "import IPython\n",
    "\n",
    "from tensorflow.keras.models import Sequential\n",
    "from tensorflow.keras.layers import Input, Dense, LSTM, Flatten, Dropout, Activation\n",
    "from tensorflow.keras import backend as K\n",
    "\n",
    "import matplotlib.pyplot as plt\n",
    "import numpy as np\n",
    "import glob"
   ]
  },
  {
   "cell_type": "code",
   "execution_count": 0,
   "metadata": {
    "colab": {},
    "colab_type": "code",
    "id": "_gZx9igIOvtU"
   },
   "outputs": [],
   "source": [
    "n_x = 79   # number of possible musical notes \n",
    "max_T_x = 1000  # max length of musical notes for a track\n",
    "sequence_length = 20\n",
    "T_y_generated = 200"
   ]
  },
  {
   "cell_type": "markdown",
   "metadata": {
    "colab_type": "text",
    "id": "bgG1EmxKDhE5"
   },
   "source": [
    "## Collect data to create the language model\n",
    "\n",
    "We download the 36 MIDI files corresponding to the 36 \"Cello suites\" composed by J. S. Bach."
   ]
  },
  {
   "cell_type": "code",
   "execution_count": 0,
   "metadata": {
    "colab": {
     "base_uri": "https://localhost:8080/",
     "height": 54
    },
    "colab_type": "code",
    "id": "C9Tgx3ooDgSP",
    "outputId": "74d36cd6-2522-43f7-a891-bb193fc177c6"
   },
   "outputs": [
    {
     "name": "stdout",
     "output_type": "stream",
     "text": [
      "['./cs4-3cou.mid', './cs2-3cou.mid', './cs6-1pre.mid', './cs3-3cou.mid', './cs5-2all.mid', './cs4-1pre.mid', './cs6-4sar.mid', './cs4-6gig.mid', './cs1-5men.mid', './cs2-6gig.mid', './cs1-1pre.mid', './cs4-5bou.mid', './cs3-2all.mid', './cs3-5bou.mid', './cs1-4sar.mid', './cs5-4sar.mid', './cs1-6gig.mid', './cs5-6gig.mid', './cs5-3cou.mid', './cs5-5gav.mid', './cs3-6gig.mid', './cs2-4sar.mid', './cs2-5men.mid', './cs5-1pre.mid', './cs6-6gig.mid', './cs4-4sar.mid', './cs6-5gav.mid', './cs6-2all.mid', './cs3-1pre.mid', './cs4-2all.mid', './cs1-2all.mid', './cs3-4sar.mid', './cs6-3cou.mid', './cs2-1pre.mid', './cs1-3cou.mid', './cs2-2all.mid']\n"
     ]
    }
   ],
   "source": [
    "DIR = './'\n",
    "import urllib.request\n",
    "midiFile_l = ['cs1-2all.mid', 'cs5-1pre.mid', 'cs4-1pre.mid', 'cs3-5bou.mid', 'cs1-4sar.mid', 'cs2-5men.mid', 'cs3-3cou.mid', 'cs2-3cou.mid', 'cs1-6gig.mid', 'cs6-4sar.mid', 'cs4-5bou.mid', 'cs4-3cou.mid', 'cs5-3cou.mid', 'cs6-5gav.mid', 'cs6-6gig.mid', 'cs6-2all.mid', 'cs2-1pre.mid', 'cs3-1pre.mid', 'cs3-6gig.mid', 'cs2-6gig.mid', 'cs2-4sar.mid', 'cs3-4sar.mid', 'cs1-5men.mid', 'cs1-3cou.mid', 'cs6-1pre.mid', 'cs2-2all.mid', 'cs3-2all.mid', 'cs1-1pre.mid', 'cs5-2all.mid', 'cs4-2all.mid', 'cs5-5gav.mid', 'cs4-6gig.mid', 'cs5-6gig.mid', 'cs5-4sar.mid', 'cs4-4sar.mid', 'cs6-3cou.mid']\n",
    "for midiFile in midiFile_l:\n",
    "  #if os.path.isfile(DIR + midiFile) is None:\n",
    "  urllib.request.urlretrieve (\"http://www.jsbach.net/midi/\" + midiFile, DIR + midiFile)\n",
    "nbExample = len(midiFile_l)\n",
    "\n",
    "midiFile_l = glob.glob(DIR + 'cs*.mid')\n",
    "print(midiFile_l)"
   ]
  },
  {
   "cell_type": "markdown",
   "metadata": {
    "colab_type": "text",
    "id": "HgCE_6urcVsj"
   },
   "source": [
    "## Read and convert all MIDI files"
   ]
  },
  {
   "cell_type": "markdown",
   "metadata": {
    "colab_type": "text",
    "id": "mDofyEKjcd4E"
   },
   "source": [
    "We read all MIDI files and convert their content to one-hot-encoding matrix X_ohe of dimensions (T_x, n_x) where n_x is the number of possible musical notes.\n",
    "The duration of the sequences T_x can vary from one sequence to the other.\n",
    " \n"
   ]
  },
  {
   "cell_type": "code",
   "execution_count": 0,
   "metadata": {
    "colab": {
     "base_uri": "https://localhost:8080/",
     "height": 85
    },
    "colab_type": "code",
    "id": "EirVcbKxEe-3",
    "outputId": "c6725bf7-a15f-4f7e-f991-7d5f9e753421"
   },
   "outputs": [
    {
     "name": "stdout",
     "output_type": "stream",
     "text": [
      "36\n",
      "(902, 79)\n",
      "(580, 79)\n",
      "(1000, 79)\n"
     ]
    }
   ],
   "source": [
    "# We truncate the duration of each example to the first T_x data\n",
    "\n",
    "X_list = []\n",
    "\n",
    "for midiFile in midiFile_l:\n",
    "    # read the MIDI file\n",
    "    midi_data = pretty_midi.PrettyMIDI(midiFile)\n",
    "    note_l = [note.pitch for note in midi_data.instruments[0].notes]   # list of all musical notes played by instrument(0)\n",
    "    # convert to one-hot-encoding\n",
    "    T_x = len(note_l)\n",
    "    if T_x > max_T_x:\n",
    "        T_x = max_T_x\n",
    "    X_ohe = np.zeros((T_x, n_x))\n",
    "    for t in range(T_x): \n",
    "        X_ohe[t, note_l[t]-1] = 1   # add 1 to the note played at the t-th sequence\n",
    "    # add to the list  \n",
    "    X_list.append(X_ohe)\n",
    "    \n",
    "print(len(X_list))\n",
    "print(X_list[0].shape)  # X_ohe of the first \"Cello suite\"\n",
    "print(X_list[1].shape)  # X_ohe of the second \"Cello suite\"\n",
    "print(X_list[2].shape)  # ..."
   ]
  },
  {
   "cell_type": "code",
   "execution_count": 0,
   "metadata": {
    "colab": {
     "base_uri": "https://localhost:8080/",
     "height": 85
    },
    "colab_type": "code",
    "id": "8fc8f0TF7tBs",
    "outputId": "066a8e01-7c06-4d43-cfbd-ac2923163d68"
   },
   "outputs": [
    {
     "name": "stdout",
     "output_type": "stream",
     "text": [
      "[0. 0. 0. 0. 0. 0. 0. 0. 0. 0. 0. 0. 0. 0. 0. 0. 0. 0. 0. 0. 0. 0. 0. 0.\n",
      " 0. 0. 0. 0. 0. 0. 0. 0. 0. 0. 0. 0. 0. 0. 0. 0. 0. 0. 0. 0. 0. 0. 0. 0.\n",
      " 0. 0. 1. 0. 0. 0. 0. 0. 0. 0. 0. 0. 0. 0. 0. 0. 0. 0. 0. 0. 0. 0. 0. 0.\n",
      " 0. 0. 0. 0. 0. 0. 0.]\n"
     ]
    }
   ],
   "source": [
    "# Check variables\n",
    "len(note_l)\n",
    "print(X_list[0][0,:])"
   ]
  },
  {
   "cell_type": "markdown",
   "metadata": {
    "colab_type": "text",
    "id": "nSf8RDL5cv7V"
   },
   "source": [
    "## Display the set of notes over time for a specific track "
   ]
  },
  {
   "cell_type": "code",
   "execution_count": 0,
   "metadata": {
    "colab": {
     "base_uri": "https://localhost:8080/",
     "height": 376
    },
    "colab_type": "code",
    "id": "wesPFMZHcvKG",
    "outputId": "27a580a0-32eb-4b87-c28c-beb270e7cc45"
   },
   "outputs": [
    {
     "data": {
      "image/png": "[encoded data removed]",
      "text/plain": [
       "<Figure size 1152x432 with 1 Axes>"
      ]
     },
     "metadata": {
      "tags": []
     },
     "output_type": "display_data"
    }
   ],
   "source": [
    "plt.figure(figsize=(16, 6))\n",
    "plt.imshow(X_list[2].T, aspect='auto')\n",
    "plt.set_cmap('gray_r')\n",
    "plt.grid(True)"
   ]
  },
  {
   "cell_type": "code",
   "execution_count": 0,
   "metadata": {
    "colab": {
     "base_uri": "https://localhost:8080/",
     "height": 376
    },
    "colab_type": "code",
    "id": "NTbdIT-C9FaR",
    "outputId": "2948a9a8-6910-4170-fab2-c4a5bfd63c3f"
   },
   "outputs": [
    {
     "data": {
      "image/png": "[encoded data removed]",
      "text/plain": [
       "<Figure size 1152x432 with 1 Axes>"
      ]
     },
     "metadata": {
      "tags": []
     },
     "output_type": "display_data"
    }
   ],
   "source": [
    "# Figure of the \"Cello suites 36\"\n",
    "plt.figure(figsize=(16, 6))\n",
    "plt.imshow(X_list[35].T, aspect='auto')\n",
    "plt.set_cmap('gray_r')\n",
    "plt.grid(True)"
   ]
  },
  {
   "cell_type": "markdown",
   "metadata": {
    "colab_type": "text",
    "id": "PMHtioR_c5y3"
   },
   "source": [
    "\n",
    "## Data conversion for the training of language model\n",
    "\n",
    "For each example/sequence and each possible starting note in this example/sequence, we create two sequences\n",
    "- an input sequence: \n",
    "  - which contains a sub-sequence of length ```sequence_length```;  this sub-sequence range from the note $t$ to the note $t+sequence\\_length-1$\n",
    "- an output sequence:\n",
    "  - which contains the following note to be predicted, the one at position $t+sequence\\_length$\n",
    "\n",
    "The training is therefore performed by giving to the model a set of sequences as input and asking the network to predict each time the note that should come right after this sequence."
   ]
  },
  {
   "cell_type": "code",
   "execution_count": 0,
   "metadata": {
    "colab": {
     "base_uri": "https://localhost:8080/",
     "height": 34
    },
    "colab_type": "code",
    "id": "x-iGyyV_HeKE",
    "outputId": "4cf9dfcf-bd74-4015-f9b7-3984a1a98b22"
   },
   "outputs": [
    {
     "name": "stdout",
     "output_type": "stream",
     "text": [
      "(23781, 20, 79)\n"
     ]
    }
   ],
   "source": [
    "X_train_l = []\n",
    "num_track = len(X_list)\n",
    "\n",
    "# for each track we create all the sub-sequence of length sequence_length \n",
    "# the input is a matrix of dimension (number of examples, 20, 79)\n",
    "for num in range(num_track): \n",
    "    for i in range(X_list[num].shape[0] - sequence_length):\n",
    "        X_train_l.append(X_list[num][i:i + sequence_length,:])    # we append the sub-matrix to X_train_list\n",
    "    \n",
    "test = np.asarray(X_train_l)\n",
    "\n",
    "print(test.shape)"
   ]
  },
  {
   "cell_type": "code",
   "execution_count": 0,
   "metadata": {
    "colab": {
     "base_uri": "https://localhost:8080/",
     "height": 51
    },
    "colab_type": "code",
    "id": "EGzvp4RCC0XX",
    "outputId": "89ec89f4-861c-49ac-8532-18c4b38a6ecb"
   },
   "outputs": [
    {
     "name": "stdout",
     "output_type": "stream",
     "text": [
      "X_train.shape: (23781, 20, 79)\n",
      "y_train.shape: (23781, 79)\n"
     ]
    }
   ],
   "source": [
    "X_train_list = []\n",
    "y_train_list = []\n",
    "\n",
    "# CODE-RNN2-1\n",
    "\n",
    "# for each track we create all the sub-sequence of length sequence_length \n",
    "# the input is a matrix of dimension (number of examples, 20, 79)\n",
    "for num in range(num_track): \n",
    "    for i in range(X_list[num].shape[0] - sequence_length):\n",
    "        X_train_list.append(X_list[num][i:i + sequence_length,:])  # we append the sub-matrix from sequence t to t + sequence_length - 1 to X_train_list as input\n",
    "        y_train_list.append(X_list[num][i + sequence_length,:])    # we append the sequence t + sequence_length to y_train_list which is the note to predict\n",
    "\n",
    "X_train = np.asarray(X_train_list)\n",
    "y_train = np.asarray(y_train_list)\n",
    "\n",
    "print(\"X_train.shape:\", X_train.shape)\n",
    "print(\"y_train.shape:\", y_train.shape)"
   ]
  },
  {
   "cell_type": "markdown",
   "metadata": {
    "colab_type": "text",
    "id": "HhNPrmvveuH3"
   },
   "source": [
    "# Training the language model\n",
    "\n",
    "The language model will be learned by training an RNN with input ```X_train``` and output ```Y_train```:  for each of the examples of sequences, we give to the network a sequence of notes of ```sequence_length``` duration, and ask the network to predict the following note of each sequence.\n",
    "\n",
    "The network will have the following structure\n",
    "- a layer of ```LSTM``` with $n_a$=256\n",
    "- a DropOut layer with rate 0.3 (the probability to \"drop-out\" one neuron is 0.3)\n",
    "- a second layer of ```LSTM``` with $n_a$=256\n",
    "- a DropOut layer with rate 0.3 (the probability to \"drop-out\" one neuron is 0.3)\n",
    "- a ```Dense``` layer with 256 units\n",
    "- a DropOut layer with rate 0.3 (the probability to \"drop-out\" one neuron is 0.3)\n",
    "- a ``Dense``` layer with a ```softmax``` activation which predict the probability of each of the $n_x$ notes as output\n",
    "\n",
    "Note that because we will stack two LSTM layers on top of each other (deep-RNN), we need to tell the first LSTM to output its hidden states at each time $t$. This is done by the option ```return_sequences=True``` that has to be given to the first LSTM.\n",
    "\n",
    "This is not the case of the second LSTM since we are only interrest in its final prediction (hence ```return_sequences=False``` which is the default behaviour)."
   ]
  },
  {
   "cell_type": "code",
   "execution_count": 0,
   "metadata": {
    "colab": {
     "base_uri": "https://localhost:8080/",
     "height": 581
    },
    "colab_type": "code",
    "id": "epWHM4p6D5n7",
    "outputId": "47d447cc-41ed-4309-8d3f-5bcaa07f14e4"
   },
   "outputs": [
    {
     "name": "stdout",
     "output_type": "stream",
     "text": [
      "WARNING:tensorflow:From /usr/local/lib/python3.6/dist-packages/tensorflow/python/ops/resource_variable_ops.py:435: colocate_with (from tensorflow.python.framework.ops) is deprecated and will be removed in a future version.\n",
      "Instructions for updating:\n",
      "Colocations handled automatically by placer.\n",
      "WARNING:tensorflow:From /usr/local/lib/python3.6/dist-packages/tensorflow/python/keras/layers/core.py:143: calling dropout (from tensorflow.python.ops.nn_ops) with keep_prob is deprecated and will be removed in a future version.\n",
      "Instructions for updating:\n",
      "Please use `rate` instead of `keep_prob`. Rate should be set to `rate = 1 - keep_prob`.\n",
      "_________________________________________________________________\n",
      "Layer (type)                 Output Shape              Param #   \n",
      "=================================================================\n",
      "lstm (LSTM)                  (None, 20, 256)           344064    \n",
      "_________________________________________________________________\n",
      "dropout (Dropout)            (None, 20, 256)           0         \n",
      "_________________________________________________________________\n",
      "lstm_1 (LSTM)                (None, 20, 256)           525312    \n",
      "_________________________________________________________________\n",
      "dropout_1 (Dropout)          (None, 20, 256)           0         \n",
      "_________________________________________________________________\n",
      "lstm_2 (LSTM)                (None, 256)               525312    \n",
      "_________________________________________________________________\n",
      "dense (Dense)                (None, 256)               65792     \n",
      "_________________________________________________________________\n",
      "dropout_2 (Dropout)          (None, 256)               0         \n",
      "_________________________________________________________________\n",
      "dense_1 (Dense)              (None, 79)                20303     \n",
      "_________________________________________________________________\n",
      "activation (Activation)      (None, 79)                0         \n",
      "=================================================================\n",
      "Total params: 1,480,783\n",
      "Trainable params: 1,480,783\n",
      "Non-trainable params: 0\n",
      "_________________________________________________________________\n",
      "None\n"
     ]
    }
   ],
   "source": [
    "# create the model\n",
    "K.clear_session()\n",
    "\n",
    "# CODE-RNN2-2\n",
    "model = tf.keras.Sequential()\n",
    "model.add(LSTM(256, input_shape = (X_train.shape[1], X_train.shape[2]),return_sequences=True))\n",
    "model.add(Dropout(0.3))\n",
    "model.add(LSTM(256, return_sequences=True))\n",
    "model.add(Dropout(0.3))\n",
    "model.add(LSTM(256, return_sequences=False))\n",
    "model.add(Dense(256, activation='relu'))\n",
    "model.add(Dropout(0.3))\n",
    "model.add(Dense(n_x))\n",
    "model.add(Activation('softmax'))\n",
    "\n",
    "\n",
    "print(model.summary())"
   ]
  },
  {
   "cell_type": "code",
   "execution_count": 0,
   "metadata": {
    "colab": {
     "base_uri": "https://localhost:8080/",
     "height": 445
    },
    "colab_type": "code",
    "id": "V7O0CZupM-8g",
    "outputId": "1543b159-da82-4345-f820-9637f1a5e30e"
   },
   "outputs": [
    {
     "name": "stdout",
     "output_type": "stream",
     "text": [
      "\n",
      "WARNING: The TensorFlow contrib module will not be included in TensorFlow 2.0.\n",
      "For more information, please see:\n",
      "  * https://github.com/tensorflow/community/blob/master/rfcs/20180907-contrib-sunset.md\n",
      "  * https://github.com/tensorflow/addons\n",
      "If you depend on functionality not listed there, please file an issue.\n",
      "\n",
      "INFO:tensorflow:Querying Tensorflow master (grpc://10.86.199.202:8470) for TPU system metadata.\n",
      "INFO:tensorflow:Found TPU system:\n",
      "INFO:tensorflow:*** Num TPU Cores: 8\n",
      "INFO:tensorflow:*** Num TPU Workers: 1\n",
      "INFO:tensorflow:*** Num TPU Cores Per Worker: 8\n",
      "INFO:tensorflow:*** Available Device: _DeviceAttributes(/job:worker/replica:0/task:0/device:CPU:0, CPU, -1, 15006062027295868195)\n",
      "INFO:tensorflow:*** Available Device: _DeviceAttributes(/job:worker/replica:0/task:0/device:XLA_CPU:0, XLA_CPU, 17179869184, 1191217062495318554)\n",
      "INFO:tensorflow:*** Available Device: _DeviceAttributes(/job:worker/replica:0/task:0/device:TPU:0, TPU, 17179869184, 4336460411946392315)\n",
      "INFO:tensorflow:*** Available Device: _DeviceAttributes(/job:worker/replica:0/task:0/device:TPU:1, TPU, 17179869184, 11096768298096078284)\n",
      "INFO:tensorflow:*** Available Device: _DeviceAttributes(/job:worker/replica:0/task:0/device:TPU:2, TPU, 17179869184, 5498397799267303179)\n",
      "INFO:tensorflow:*** Available Device: _DeviceAttributes(/job:worker/replica:0/task:0/device:TPU:3, TPU, 17179869184, 10490833586530056117)\n",
      "INFO:tensorflow:*** Available Device: _DeviceAttributes(/job:worker/replica:0/task:0/device:TPU:4, TPU, 17179869184, 158062886688196431)\n",
      "INFO:tensorflow:*** Available Device: _DeviceAttributes(/job:worker/replica:0/task:0/device:TPU:5, TPU, 17179869184, 11284339532645783587)\n",
      "INFO:tensorflow:*** Available Device: _DeviceAttributes(/job:worker/replica:0/task:0/device:TPU:6, TPU, 17179869184, 9422537024005315214)\n",
      "INFO:tensorflow:*** Available Device: _DeviceAttributes(/job:worker/replica:0/task:0/device:TPU:7, TPU, 17179869184, 1600619394460950788)\n",
      "INFO:tensorflow:*** Available Device: _DeviceAttributes(/job:worker/replica:0/task:0/device:TPU_SYSTEM:0, TPU_SYSTEM, 17179869184, 13496385515730509952)\n",
      "WARNING:tensorflow:tpu_model (from tensorflow.contrib.tpu.python.tpu.keras_support) is experimental and may change or be removed at any time, and without warning.\n"
     ]
    }
   ],
   "source": [
    "# Using TPU\n",
    "model = tf.contrib.tpu.keras_to_tpu_model(\n",
    "   model,\n",
    "   strategy=tf.contrib.tpu.TPUDistributionStrategy(\n",
    "       tf.contrib.cluster_resolver.TPUClusterResolver(\n",
    "           tpu='grpc://' + os.environ['COLAB_TPU_ADDR'])\n",
    "   )\n",
    ")\n"
   ]
  },
  {
   "cell_type": "code",
   "execution_count": 0,
   "metadata": {
    "colab": {
     "base_uri": "https://localhost:8080/",
     "height": 2043
    },
    "colab_type": "code",
    "id": "yhWTNfIbFDmf",
    "outputId": "04cf2777-a189-4d6a-a582-c6c4943831b6"
   },
   "outputs": [
    {
     "name": "stdout",
     "output_type": "stream",
     "text": [
      "Epoch 1/50\n",
      "INFO:tensorflow:New input shapes; (re-)compiling: mode=train (# of cores 8), [TensorSpec(shape=(8,), dtype=tf.int32, name='core_id0'), TensorSpec(shape=(8, 20, 79), dtype=tf.float32, name='lstm_input_10'), TensorSpec(shape=(8, 79), dtype=tf.float32, name='activation_target_10')]\n",
      "INFO:tensorflow:Overriding default placeholder.\n",
      "INFO:tensorflow:Remapping placeholder for lstm_input\n",
      "WARNING:tensorflow:From /usr/local/lib/python3.6/dist-packages/tensorflow/contrib/tpu/python/tpu/keras_support.py:302: to_float (from tensorflow.python.ops.math_ops) is deprecated and will be removed in a future version.\n",
      "Instructions for updating:\n",
      "Use tf.cast instead.\n",
      "WARNING:tensorflow:From /usr/local/lib/python3.6/dist-packages/tensorflow/python/ops/math_ops.py:3066: to_int32 (from tensorflow.python.ops.math_ops) is deprecated and will be removed in a future version.\n",
      "Instructions for updating:\n",
      "Use tf.cast instead.\n",
      "INFO:tensorflow:Started compiling\n",
      "INFO:tensorflow:Finished compiling. Time elapsed: 6.786472320556641 secs\n",
      "INFO:tensorflow:Setting weights on TPU model.\n",
      "23680/23781 [============================>.] - ETA: 0s - loss: 3.4100 - acc: 0.0976INFO:tensorflow:New input shapes; (re-)compiling: mode=train (# of cores 8), [TensorSpec(shape=(4,), dtype=tf.int32, name='core_id0'), TensorSpec(shape=(4, 20, 79), dtype=tf.float32, name='lstm_input_10'), TensorSpec(shape=(4, 79), dtype=tf.float32, name='activation_target_10')]\n",
      "INFO:tensorflow:Overriding default placeholder.\n",
      "INFO:tensorflow:Remapping placeholder for lstm_input\n",
      "INFO:tensorflow:Started compiling\n",
      "INFO:tensorflow:Finished compiling. Time elapsed: 8.832969427108765 secs\n",
      "23781/23781 [==============================] - 51s 2ms/sample - loss: 3.4077 - acc: 0.0978\n",
      "Epoch 2/50\n",
      "23781/23781 [==============================] - 16s 659us/sample - loss: 2.6796 - acc: 0.1499\n",
      "Epoch 3/50\n",
      "23781/23781 [==============================] - 15s 642us/sample - loss: 2.5339 - acc: 0.1793\n",
      "Epoch 4/50\n",
      "23781/23781 [==============================] - 15s 639us/sample - loss: 2.4786 - acc: 0.1998\n",
      "Epoch 5/50\n",
      "23781/23781 [==============================] - 15s 646us/sample - loss: 2.4189 - acc: 0.2273\n",
      "Epoch 6/50\n",
      "23781/23781 [==============================] - 16s 672us/sample - loss: 2.3450 - acc: 0.2658\n",
      "Epoch 7/50\n",
      "23781/23781 [==============================] - 16s 652us/sample - loss: 2.2712 - acc: 0.2934\n",
      "Epoch 8/50\n",
      "23781/23781 [==============================] - 15s 649us/sample - loss: 2.1787 - acc: 0.3232\n",
      "Epoch 9/50\n",
      "23781/23781 [==============================] - 15s 645us/sample - loss: 2.0670 - acc: 0.3588\n",
      "Epoch 10/50\n",
      "23781/23781 [==============================] - 15s 645us/sample - loss: 1.9499 - acc: 0.3915\n",
      "Epoch 11/50\n",
      "23781/23781 [==============================] - 16s 658us/sample - loss: 1.8071 - acc: 0.4334\n",
      "Epoch 12/50\n",
      "23781/23781 [==============================] - 16s 657us/sample - loss: 1.6748 - acc: 0.4740\n",
      "Epoch 13/50\n",
      "23781/23781 [==============================] - 15s 646us/sample - loss: 1.5378 - acc: 0.5099\n",
      "Epoch 14/50\n",
      "23781/23781 [==============================] - 15s 645us/sample - loss: 1.3883 - acc: 0.5538\n",
      "Epoch 15/50\n",
      "23781/23781 [==============================] - 15s 644us/sample - loss: 1.2510 - acc: 0.5971\n",
      "Epoch 16/50\n",
      "23781/23781 [==============================] - 15s 641us/sample - loss: 1.1276 - acc: 0.6344\n",
      "Epoch 17/50\n",
      "23781/23781 [==============================] - 15s 650us/sample - loss: 1.0074 - acc: 0.6729\n",
      "Epoch 18/50\n",
      "23781/23781 [==============================] - 15s 650us/sample - loss: 0.9008 - acc: 0.7082\n",
      "Epoch 19/50\n",
      "23781/23781 [==============================] - 15s 638us/sample - loss: 0.8097 - acc: 0.7372\n",
      "Epoch 20/50\n",
      "23781/23781 [==============================] - 15s 636us/sample - loss: 0.7286 - acc: 0.7629\n",
      "Epoch 21/50\n",
      "23781/23781 [==============================] - 15s 641us/sample - loss: 0.6558 - acc: 0.7886\n",
      "Epoch 22/50\n",
      "23781/23781 [==============================] - 16s 662us/sample - loss: 0.6041 - acc: 0.8028\n",
      "Epoch 23/50\n",
      "23781/23781 [==============================] - 15s 646us/sample - loss: 0.5468 - acc: 0.8239\n",
      "Epoch 24/50\n",
      "23781/23781 [==============================] - 15s 641us/sample - loss: 0.5031 - acc: 0.8324\n",
      "Epoch 25/50\n",
      "23781/23781 [==============================] - 15s 645us/sample - loss: 0.4609 - acc: 0.8504\n",
      "Epoch 26/50\n",
      "23781/23781 [==============================] - 16s 662us/sample - loss: 0.4264 - acc: 0.8635\n",
      "Epoch 27/50\n",
      "23781/23781 [==============================] - 15s 647us/sample - loss: 0.3989 - acc: 0.8722\n",
      "Epoch 28/50\n",
      "23781/23781 [==============================] - 15s 645us/sample - loss: 0.3819 - acc: 0.8761\n",
      "Epoch 29/50\n",
      "23781/23781 [==============================] - 15s 640us/sample - loss: 0.3522 - acc: 0.8845\n",
      "Epoch 30/50\n",
      "23781/23781 [==============================] - 15s 644us/sample - loss: 0.3436 - acc: 0.8904\n",
      "Epoch 31/50\n",
      "23781/23781 [==============================] - 15s 634us/sample - loss: 0.3229 - acc: 0.8948\n",
      "Epoch 32/50\n",
      "23781/23781 [==============================] - 15s 643us/sample - loss: 0.3098 - acc: 0.9008\n",
      "Epoch 33/50\n",
      "23781/23781 [==============================] - 15s 647us/sample - loss: 0.2909 - acc: 0.9066\n",
      "Epoch 34/50\n",
      "23781/23781 [==============================] - 15s 644us/sample - loss: 0.2869 - acc: 0.9080\n",
      "Epoch 35/50\n",
      "23781/23781 [==============================] - 15s 648us/sample - loss: 0.2715 - acc: 0.9126\n",
      "Epoch 36/50\n",
      "23781/23781 [==============================] - 15s 640us/sample - loss: 0.2536 - acc: 0.9196\n",
      "Epoch 37/50\n",
      "23781/23781 [==============================] - 15s 641us/sample - loss: 0.2474 - acc: 0.9222\n",
      "Epoch 38/50\n",
      "23781/23781 [==============================] - 15s 646us/sample - loss: 0.2443 - acc: 0.9210\n",
      "Epoch 39/50\n",
      "23781/23781 [==============================] - 15s 631us/sample - loss: 0.2296 - acc: 0.9265\n",
      "Epoch 40/50\n",
      "23781/23781 [==============================] - 15s 632us/sample - loss: 0.2247 - acc: 0.9257\n",
      "Epoch 41/50\n",
      "23781/23781 [==============================] - 15s 630us/sample - loss: 0.2174 - acc: 0.9295\n",
      "Epoch 42/50\n",
      "23781/23781 [==============================] - 15s 638us/sample - loss: 0.2127 - acc: 0.9314\n",
      "Epoch 43/50\n",
      "23781/23781 [==============================] - 15s 649us/sample - loss: 0.2037 - acc: 0.9330\n",
      "Epoch 44/50\n",
      "23781/23781 [==============================] - 15s 637us/sample - loss: 0.2011 - acc: 0.9358\n",
      "Epoch 45/50\n",
      "23781/23781 [==============================] - 15s 637us/sample - loss: 0.2017 - acc: 0.9372\n",
      "Epoch 46/50\n",
      "23781/23781 [==============================] - 15s 641us/sample - loss: 0.1933 - acc: 0.9372\n",
      "Epoch 47/50\n",
      "23781/23781 [==============================] - 15s 644us/sample - loss: 0.1833 - acc: 0.9407\n",
      "Epoch 48/50\n",
      "23781/23781 [==============================] - 15s 646us/sample - loss: 0.1893 - acc: 0.9409\n",
      "Epoch 49/50\n",
      "23781/23781 [==============================] - 15s 638us/sample - loss: 0.1878 - acc: 0.9399\n",
      "Epoch 50/50\n",
      "23781/23781 [==============================] - 15s 639us/sample - loss: 0.1732 - acc: 0.9445\n"
     ]
    },
    {
     "data": {
      "text/plain": [
       "<tensorflow.python.keras.callbacks.History at 0x7f1a9e7a51d0>"
      ]
     },
     "execution_count": 13,
     "metadata": {
      "tags": []
     },
     "output_type": "execute_result"
    }
   ],
   "source": [
    "# compile and fit the model\n",
    "model.compile(\n",
    "   optimizer=tf.train.RMSPropOptimizer(learning_rate=0.001),\n",
    "   loss=tf.keras.losses.categorical_crossentropy,\n",
    "   metrics=['accuracy']\n",
    ")\n",
    "# model.compile(loss='categorical_crossentropy', optimizer='rmsprop', metrics=['accuracy'])\n",
    "model.fit(X_train, y_train, epochs=50, batch_size=64)"
   ]
  },
  {
   "cell_type": "markdown",
   "metadata": {
    "colab_type": "text",
    "id": "UJ5LCvI1aqA0"
   },
   "source": [
    "# Save the trained Model"
   ]
  },
  {
   "cell_type": "code",
   "execution_count": 0,
   "metadata": {
    "colab": {},
    "colab_type": "code",
    "id": "KUjSHm88Yede"
   },
   "outputs": [],
   "source": [
    "!pip install -U -q PyDrive"
   ]
  },
  {
   "cell_type": "code",
   "execution_count": 0,
   "metadata": {
    "colab": {},
    "colab_type": "code",
    "id": "tAugcD72YfAR"
   },
   "outputs": [],
   "source": [
    "from pydrive.auth import GoogleAuth\n",
    "from pydrive.drive import GoogleDrive \n",
    "from google.colab import auth \n",
    "from oauth2client.client import GoogleCredentials"
   ]
  },
  {
   "cell_type": "code",
   "execution_count": 0,
   "metadata": {
    "colab": {},
    "colab_type": "code",
    "id": "ia0tYOEYYyJT"
   },
   "outputs": [],
   "source": [
    "auth.authenticate_user()\n",
    "gauth = GoogleAuth()\n",
    "gauth.credentials = GoogleCredentials.get_application_default()                       \n",
    "drive = GoogleDrive(gauth)"
   ]
  },
  {
   "cell_type": "code",
   "execution_count": 0,
   "metadata": {
    "colab": {
     "base_uri": "https://localhost:8080/",
     "height": 34
    },
    "colab_type": "code",
    "id": "uEmfKHQrWBh2",
    "outputId": "d28c34cb-ab17-4451-f677-c8281beaad4d"
   },
   "outputs": [
    {
     "name": "stdout",
     "output_type": "stream",
     "text": [
      "INFO:tensorflow:Copying TPU weights to the CPU\n"
     ]
    }
   ],
   "source": [
    "model.save_weights('./tpu_model.h5', overwrite=True)\n",
    "model_file = drive.CreateFile({'title' : 'tpu_model.h5'})                       \n",
    "model_file.SetContentFile('tpu_model.h5')                       \n",
    "model_file.Upload()"
   ]
  },
  {
   "cell_type": "code",
   "execution_count": 0,
   "metadata": {
    "colab": {
     "base_uri": "https://localhost:8080/",
     "height": 34
    },
    "colab_type": "code",
    "id": "dfQdDogOj9Cz",
    "outputId": "11d49cb1-69ae-4148-e226-d453552a6893"
   },
   "outputs": [
    {
     "data": {
      "text/plain": [
       "GoogleDriveFile({'id': '1ahcMnj7PuMhFXpGCuMEQjw0FHvKRazES'})"
      ]
     },
     "execution_count": 18,
     "metadata": {
      "tags": []
     },
     "output_type": "execute_result"
    }
   ],
   "source": [
    "# download to google drive                       \n",
    "drive.CreateFile({'id': model_file.get('id')})"
   ]
  },
  {
   "cell_type": "markdown",
   "metadata": {
    "colab_type": "text",
    "id": "xM6g1YR3gtcO"
   },
   "source": [
    "# Generating a new sequence from sampling the language model\n",
    "\n",
    "To generate a new sequence from the language model, we simply give it as input a random sequence of duration ```sequence_length```and ask the trained network to predict the output (using ```model.predict```). \n",
    "\n",
    "The output of the network is a vector of probability of dimension $n_x$ which represents the probability of each note to be the next note of the melody given as input.\n",
    "\n",
    "From this vector, we select the note which has the maximum probability.\n",
    "\n",
    "We then concatenate this new note (its one-hot-encoding representation) at the end of the input sequence.\n",
    "We finally remove the first element of the input sequence to keep its duration constant (```sequence_length```).\n",
    "\n",
    "Instead of providing a random sequence as input, we rather randomly select one sequence out of the 2880 sequences used for training.\n",
    "We denote it by ```pattern```.\n",
    "\n"
   ]
  },
  {
   "cell_type": "markdown",
   "metadata": {},
   "source": [
    "### Note : \n",
    "I created the same model and loaded the weights saved because I had problems with the method predict using TPU   \n",
    "\n",
    "Update : Can use the following instruction to fix the problem of TPU without having to create a new model : model = model.sync_to_cpu() "
   ]
  },
  {
   "cell_type": "code",
   "execution_count": 0,
   "metadata": {
    "colab": {
     "base_uri": "https://localhost:8080/",
     "height": 459
    },
    "colab_type": "code",
    "id": "mfy_DDVwe6U6",
    "outputId": "a28f78d0-b040-43a2-c7aa-434b069094a5"
   },
   "outputs": [
    {
     "name": "stdout",
     "output_type": "stream",
     "text": [
      "_________________________________________________________________\n",
      "Layer (type)                 Output Shape              Param #   \n",
      "=================================================================\n",
      "lstm (LSTM)                  (None, 20, 256)           344064    \n",
      "_________________________________________________________________\n",
      "dropout (Dropout)            (None, 20, 256)           0         \n",
      "_________________________________________________________________\n",
      "lstm_1 (LSTM)                (None, 20, 256)           525312    \n",
      "_________________________________________________________________\n",
      "dropout_1 (Dropout)          (None, 20, 256)           0         \n",
      "_________________________________________________________________\n",
      "lstm_2 (LSTM)                (None, 256)               525312    \n",
      "_________________________________________________________________\n",
      "dense (Dense)                (None, 256)               65792     \n",
      "_________________________________________________________________\n",
      "dropout_2 (Dropout)          (None, 256)               0         \n",
      "_________________________________________________________________\n",
      "dense_1 (Dense)              (None, 79)                20303     \n",
      "_________________________________________________________________\n",
      "activation (Activation)      (None, 79)                0         \n",
      "=================================================================\n",
      "Total params: 1,480,783\n",
      "Trainable params: 1,480,783\n",
      "Non-trainable params: 0\n",
      "_________________________________________________________________\n",
      "None\n"
     ]
    }
   ],
   "source": [
    "K.clear_session()\n",
    "\n",
    "model = tf.keras.Sequential()\n",
    "model.add(LSTM(256, input_shape = (X_train.shape[1], X_train.shape[2]),return_sequences=True))\n",
    "model.add(Dropout(0.3))\n",
    "model.add(LSTM(256, return_sequences=True))\n",
    "model.add(Dropout(0.3))\n",
    "model.add(LSTM(256, return_sequences=False))\n",
    "model.add(Dense(256, activation='relu'))\n",
    "model.add(Dropout(0.3))\n",
    "model.add(Dense(n_x))\n",
    "model.add(Activation('softmax'))\n",
    "\n",
    "print(model.summary())\n",
    "\n",
    "model.load_weights('./tpu_model.h5')"
   ]
  },
  {
   "cell_type": "code",
   "execution_count": 0,
   "metadata": {
    "colab": {
     "base_uri": "https://localhost:8080/",
     "height": 68
    },
    "colab_type": "code",
    "id": "_YHXTohsFGCX",
    "outputId": "f4ded95f-b88d-43bd-c57b-66ea063c5587"
   },
   "outputs": [
    {
     "name": "stdout",
     "output_type": "stream",
     "text": [
      "11290\n",
      "(20, 79)\n",
      "(1, 20, 79)\n"
     ]
    }
   ],
   "source": [
    "# select a random starting pattern\n",
    "start = np.random.randint(0, len(X_train_list)-1)\n",
    "pattern = X_train_list[start]\n",
    "print(start)\n",
    "print(pattern.shape)\n",
    "\n",
    "print(np.expand_dims(pattern, 0).shape)"
   ]
  },
  {
   "cell_type": "code",
   "execution_count": 0,
   "metadata": {
    "colab": {},
    "colab_type": "code",
    "id": "f_ADCs7uFW8m"
   },
   "outputs": [],
   "source": [
    "note_l = []\n",
    "\n",
    "prediction_l = []\n",
    "\n",
    "# generate T_y_generated notes\n",
    "for note_index in range(T_y_generated):\n",
    "  \n",
    "    prediction_input = np.expand_dims(pattern, 0)\n",
    "    prediction = model.predict(prediction_input)\n",
    "    prediction_l.append(prediction)          # output vector\n",
    "    note_l.append(np.argmax(prediction))     # we choose the note with the highest probability\n",
    "    \n",
    "    pattern = np.vstack((pattern,prediction))  # we concatenate the output at the end of the input sequence\n",
    "    pattern = pattern[1:len(pattern),:]        # we create a new pattern by removing the first element of the input sequence"
   ]
  },
  {
   "cell_type": "markdown",
   "metadata": {
    "colab_type": "text",
    "id": "stQscvNOg0xd"
   },
   "source": [
    "### Display the generated sequence"
   ]
  },
  {
   "cell_type": "code",
   "execution_count": 0,
   "metadata": {
    "colab": {
     "base_uri": "https://localhost:8080/",
     "height": 413
    },
    "colab_type": "code",
    "id": "c9IOPPiuLuHE",
    "outputId": "714acebb-6ad7-40e4-e8e5-c8b3fc478423"
   },
   "outputs": [
    {
     "name": "stdout",
     "output_type": "stream",
     "text": [
      "[55, 54, 49, 50, 42, 47, 46, 47, 38, 42, 35, 50, 54, 55, 52, 54, 57, 56, 57, 49, 50, 52, 45, 47, 49, 50, 59, 56, 57, 53, 54, 53, 56, 49, 61, 59, 57, 56, 57, 61, 54, 52, 54, 49, 50, 54, 59, 62, 61, 59, 53, 54, 49, 56, 53, 54, 45, 47, 49, 42, 57, 54, 51, 54, 57, 60, 57, 59, 55, 54, 52, 51, 52, 55, 50, 49, 52, 55, 59, 55, 57, 54, 52, 50, 49, 50, 54, 57, 56, 52, 50, 49, 50, 56, 59, 58, 54, 52, 50, 52, 58, 61, 59, 54, 62, 61, 54, 64, 62, 63, 64, 61, 62, 61, 58, 59, 58, 59, 61, 54, 52, 50, 49, 50, 59, 57, 55, 54, 55, 54, 52, 51, 52, 50, 49, 47, 46, 43, 42, 40, 38, 42, 46, 49, 52, 55, 54, 49, 50, 42, 47, 46, 47, 38, 42, 35, 50, 54, 55, 52, 54, 57, 56, 57, 49, 50, 52, 45, 47, 49, 50, 59, 56, 57, 53, 54, 53, 56, 49, 61, 59, 57, 56, 57, 61, 54, 52, 54, 49, 50, 54, 59, 62, 61, 59, 53, 54, 49, 56, 53]\n"
     ]
    },
    {
     "data": {
      "image/png": "[encoded data removed]",
      "text/plain": [
       "<Figure size 1152x432 with 1 Axes>"
      ]
     },
     "metadata": {
      "tags": []
     },
     "output_type": "display_data"
    }
   ],
   "source": [
    "print(note_l)\n",
    "\n",
    "plt.figure(figsize=(16, 6))\n",
    "plt.imshow(np.asarray(prediction_l)[:,0,:].T, aspect='auto')\n",
    "plt.plot(note_l)\n",
    "plt.set_cmap('gray_r')\n",
    "plt.grid(True)\n"
   ]
  },
  {
   "cell_type": "markdown",
   "metadata": {
    "colab_type": "text",
    "id": "ZwM6osfDg5E0"
   },
   "source": [
    "### Create a MIDI file and an audio file which correspond to the generated sequence\n",
    "\n",
    "Once the new sequence has been generated (```note_l```) we transform it to a new MIDI file and perform (a very cheap) rendering of it in an audio file."
   ]
  },
  {
   "cell_type": "code",
   "execution_count": 0,
   "metadata": {
    "colab": {
     "base_uri": "https://localhost:8080/",
     "height": 75
    },
    "colab_type": "code",
    "id": "8cpTszOFID51",
    "outputId": "13d3d5da-a11f-4a32-feb0-8d268637ab5c"
   },
   "outputs": [],
   "source": [
    "new_midi_data = pretty_midi.PrettyMIDI()\n",
    "cello_program = pretty_midi.instrument_name_to_program('Cello')\n",
    "cello = pretty_midi.Instrument(program=cello_program)\n",
    "time = 0\n",
    "step = 0.3\n",
    "for note_number in note_l:\n",
    "    myNote = pretty_midi.Note(velocity=100, pitch=note_number, start=time, end=time+step)\n",
    "    cello.notes.append(myNote)\n",
    "    time += step\n",
    "new_midi_data.instruments.append(cello)\n",
    "%matplotlib inline\n",
    "\n",
    "audio_data = new_midi_data.synthesize()\n",
    "IPython.display.Audio(audio_data, rate=44100)"
   ]
  },
  {
   "cell_type": "code",
   "execution_count": 0,
   "metadata": {
    "colab": {
     "base_uri": "https://localhost:8080/",
     "height": 34
    },
    "colab_type": "code",
    "id": "FrFmTqsIm4jk",
    "outputId": "62eefb67-eac0-4b77-838d-3cceedb04456"
   },
   "outputs": [
    {
     "data": {
      "text/plain": [
       "<module 'pretty_midi.instrument' from '/usr/local/lib/python3.6/dist-packages/pretty_midi/instrument.py'>"
      ]
     },
     "execution_count": 35,
     "metadata": {
      "tags": []
     },
     "output_type": "execute_result"
    }
   ],
   "source": [
    "pretty_midi.instrument"
   ]
  }
 ],
 "metadata": {
  "accelerator": "TPU",
  "colab": {
   "collapsed_sections": [
    "UJ5LCvI1aqA0"
   ],
   "name": "Copie de TPRNNBachsimpleforstudents.ipynb",
   "provenance": [],
   "version": "0.3.2"
  },
  "kernelspec": {
   "display_name": "Python 3",
   "language": "python",
   "name": "python3"
  },
  "language_info": {
   "codemirror_mode": {
    "name": "ipython",
    "version": 3
   },
   "file_extension": ".py",
   "mimetype": "text/x-python",
   "name": "python",
   "nbconvert_exporter": "python",
   "pygments_lexer": "ipython3",
   "version": "3.6.7"
  }
 },
 "nbformat": 4,
 "nbformat_minor": 1
}
